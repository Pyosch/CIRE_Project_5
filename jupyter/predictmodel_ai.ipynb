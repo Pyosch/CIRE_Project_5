{
 "cells": [
  {
   "cell_type": "code",
   "execution_count": 45,
   "id": "f3c56e90",
   "metadata": {},
   "outputs": [],
   "source": [
    "import numpy as np\n",
    "import pandas as pd\n",
    "from sklearn import datasets, linear_model, model_selection, metrics, neural_network"
   ]
  },
  {
   "cell_type": "code",
   "execution_count": 46,
   "id": "7d5b65c5",
   "metadata": {},
   "outputs": [],
   "source": [
    "def create_energy_predict_model(verbose):\n",
    "    data = pd.read_csv('test_data.csv')\n",
    "    np.set_printoptions(threshold=np.inf) # display entire array\n",
    "\n",
    "    attr_cols = [\"Timeslot\",\"WeekDay\",\"CA24\",\"CP24\",\"T24\",\"WS24\",\"CA23\",\"CP23\",\"T23\",\"WS23\",\"CA22\",\"CP22\",\"T22\",\"WS22\",\"CA21\",\"CP21\",\"T21\",\"WS21\",\"CA20\",\"CP20\",\"T20\",\"WS20\",\"CA19\",\"CP19\",\"T19\",\"WS19\",\"CA18\",\"CP18\",\"T18\",\"WS18\",\"CA17\",\"CP17\",\"T17\",\"WS17\",\"CA16\",\"CP16\",\"T16\",\"WS16\",\"CA15\",\"CP15\",\"T15\",\"WS15\",\"CA14\",\"CP14\",\"T14\",\"WS14\",\"CA13\",\"CP13\",\"T13\",\"WS13\",\"CA12\",\"CP12\",\"T12\",\"WS12\",\"CA11\",\"CP11\",\"T11\",\"WS11\",\"CA10\",\"CP10\",\"T10\",\"WS10\",\"CA9\",\"CP9\",\"T9\",\"WS9\",\"CA8\",\"CP8\",\"T8\",\"WS8\",\"CA7\",\"CP7\",\"T7\",\"WS7\",\"CA6\",\"CP6\",\"T6\",\"WS6\",\"CA5\",\"CP5\",\"T5\",\"WS5\",\"CA4\",\"CP4\",\"T4\",\"WS4\",\"CA3\",\"CP3\",\"T3\",\"WS3\",\"CA2\",\"CP2\",\"T2\",\"WS2\",\"CA1\",\"CP1\",\"T1\",\"WS1\",\"CT\",\"CWS\",\"PCA1\",\"PCP1\",\"PCA2\",\"PCP2\",\"PCA3\",\"PCP3\",\"PCA4\",\"PCP4\",\"PCA5\",\"PCP5\",\"PCA6\",\"PCP6\",\"PCA7\",\"PCP7\",\"PCA8\",\"PCP8\",\"PCA9\",\"PCP9\",\"PCA10\",\"PCP10\",\"PCA11\",\"PCP11\",\"PCA12\",\"PCP12\",\"PCA13\",\"PCP13\",\"PCA14\",\"PCP14\",\"PCA15\",\"PCP15\",\"PCA16\",\"PCP16\",\"PCA17\",\"PCP17\",\"PCA18\",\"PCP18\",\"PCA19\",\"PCP19\",\"PCA20\",\"PCP20\",\"PCA21\",\"PCP21\",\"PCA22\",\"PCP22\",\"PCA23\",\"PCP23\",\"PCA24\",\"PCP24\",\"TF1\",\"WSF1\",\"TF2\",\"WSF2\",\"TF3\",\"WSF3\",\"TF4\",\"WSF4\",\"TF5\",\"WSF5\",\"TF6\",\"WSF6\",\"TF7\",\"WSF7\",\"TF8\",\"WSF8\",\"TF9\",\"WSF9\",\"TF10\",\"WSF10\",\"TF11\",\"WSF11\",\"TF12\",\"WSF12\",\"TF13\",\"WSF13\",\"TF14\",\"WSF14\",\"TF15\",\"WSF15\",\"TF16\",\"WSF16\",\"TF17\",\"WSF17\",\"TF18\",\"WSF18\",\"TF19\",\"WSF19\",\"TF20\",\"WSF20\",\"TF21\",\"WSF21\",\"TF22\",\"WSF22\",\"TF23\",\"WSF23\",\"TF24\",\"WSF24\"]\n",
    "    x = data[attr_cols].values\n",
    "    predict_cols = [\"TCA1\",\"TCA2\",\"TCA3\",\"TCA4\",\"TCA5\",\"TCA6\",\"TCA7\",\"TCA8\",\"TCA9\",\"TCA10\",\"TCA11\",\"TCA12\",\"TCA13\",\"TCA14\",\"TCA15\",\"TCA16\",\"TCA17\",\"TCA18\",\"TCA19\",\"TCA20\",\"TCA21\",\"TCA22\",\"TCA23\",\"TCA24\"]\n",
    "    y = data[predict_cols].values\n",
    "    x_train, x_test, y_train, y_test = model_selection.train_test_split(\n",
    "        x, y, test_size=0.3)\n",
    "\n",
    "    # regressor = neural_network.MLPRegressor()\n",
    "    regressor = linear_model.LinearRegression()\n",
    "\n",
    "    regressor.fit(x_train, y_train)\n",
    "\n",
    "    if verbose:\n",
    "        print(\"---ENERGY PREDICTION MODEL---\")\n",
    "        y_pred = regressor.predict(x_test)\n",
    "        df = pd.DataFrame({'Actual': y_test.flatten(),\n",
    "                           'Predicted': y_pred.flatten()})\n",
    "        print(df)\n",
    "        print('Mean Absolute Error:', metrics.mean_absolute_error(y_test, y_pred))\n",
    "        print('Mean Squared Error:', metrics.mean_squared_error(y_test, y_pred))\n",
    "        print('Root Mean Squared Error:', np.sqrt(\n",
    "            metrics.mean_squared_error(y_test, y_pred)))\n",
    "\n",
    "    return regressor"
   ]
  },
  {
   "cell_type": "code",
   "execution_count": 47,
   "id": "ea01edf5",
   "metadata": {},
   "outputs": [],
   "source": [
    "def main():\n",
    "    energy_model = create_energy_predict_model(verbose=True)"
   ]
  },
  {
   "cell_type": "code",
   "execution_count": 48,
   "id": "f5463798",
   "metadata": {},
   "outputs": [
    {
     "ename": "AttributeError",
     "evalue": "module 'pandas' has no attribute 'read_csv'",
     "output_type": "error",
     "traceback": [
      "\u001b[1;31m---------------------------------------------------------------------------\u001b[0m",
      "\u001b[1;31mAttributeError\u001b[0m                            Traceback (most recent call last)",
      "\u001b[1;32m~\\AppData\\Local\\Temp\\ipykernel_8668\\992033914.py\u001b[0m in \u001b[0;36m<module>\u001b[1;34m\u001b[0m\n\u001b[1;32m----> 1\u001b[1;33m \u001b[0mcreate_energy_predict_model\u001b[0m\u001b[1;33m(\u001b[0m\u001b[0mverbose\u001b[0m\u001b[1;33m=\u001b[0m\u001b[1;32mTrue\u001b[0m\u001b[1;33m)\u001b[0m\u001b[1;33m\u001b[0m\u001b[1;33m\u001b[0m\u001b[0m\n\u001b[0m",
      "\u001b[1;32m~\\AppData\\Local\\Temp\\ipykernel_8668\\525710575.py\u001b[0m in \u001b[0;36mcreate_energy_predict_model\u001b[1;34m(verbose)\u001b[0m\n\u001b[0;32m      1\u001b[0m \u001b[1;32mdef\u001b[0m \u001b[0mcreate_energy_predict_model\u001b[0m\u001b[1;33m(\u001b[0m\u001b[0mverbose\u001b[0m\u001b[1;33m)\u001b[0m\u001b[1;33m:\u001b[0m\u001b[1;33m\u001b[0m\u001b[1;33m\u001b[0m\u001b[0m\n\u001b[1;32m----> 2\u001b[1;33m     \u001b[0mdata\u001b[0m \u001b[1;33m=\u001b[0m \u001b[0mpd\u001b[0m\u001b[1;33m.\u001b[0m\u001b[0mread_csv\u001b[0m\u001b[1;33m(\u001b[0m\u001b[1;34m'test_data.csv'\u001b[0m\u001b[1;33m)\u001b[0m\u001b[1;33m\u001b[0m\u001b[1;33m\u001b[0m\u001b[0m\n\u001b[0m\u001b[0;32m      3\u001b[0m     \u001b[0mnp\u001b[0m\u001b[1;33m.\u001b[0m\u001b[0mset_printoptions\u001b[0m\u001b[1;33m(\u001b[0m\u001b[0mthreshold\u001b[0m\u001b[1;33m=\u001b[0m\u001b[0mnp\u001b[0m\u001b[1;33m.\u001b[0m\u001b[0minf\u001b[0m\u001b[1;33m)\u001b[0m \u001b[1;31m# display entire array\u001b[0m\u001b[1;33m\u001b[0m\u001b[1;33m\u001b[0m\u001b[0m\n\u001b[0;32m      4\u001b[0m \u001b[1;33m\u001b[0m\u001b[0m\n\u001b[0;32m      5\u001b[0m     \u001b[0mattr_cols\u001b[0m \u001b[1;33m=\u001b[0m \u001b[1;33m[\u001b[0m\u001b[1;34m\"Timeslot\"\u001b[0m\u001b[1;33m,\u001b[0m\u001b[1;34m\"WeekDay\"\u001b[0m\u001b[1;33m,\u001b[0m\u001b[1;34m\"CA24\"\u001b[0m\u001b[1;33m,\u001b[0m\u001b[1;34m\"CP24\"\u001b[0m\u001b[1;33m,\u001b[0m\u001b[1;34m\"T24\"\u001b[0m\u001b[1;33m,\u001b[0m\u001b[1;34m\"WS24\"\u001b[0m\u001b[1;33m,\u001b[0m\u001b[1;34m\"CA23\"\u001b[0m\u001b[1;33m,\u001b[0m\u001b[1;34m\"CP23\"\u001b[0m\u001b[1;33m,\u001b[0m\u001b[1;34m\"T23\"\u001b[0m\u001b[1;33m,\u001b[0m\u001b[1;34m\"WS23\"\u001b[0m\u001b[1;33m,\u001b[0m\u001b[1;34m\"CA22\"\u001b[0m\u001b[1;33m,\u001b[0m\u001b[1;34m\"CP22\"\u001b[0m\u001b[1;33m,\u001b[0m\u001b[1;34m\"T22\"\u001b[0m\u001b[1;33m,\u001b[0m\u001b[1;34m\"WS22\"\u001b[0m\u001b[1;33m,\u001b[0m\u001b[1;34m\"CA21\"\u001b[0m\u001b[1;33m,\u001b[0m\u001b[1;34m\"CP21\"\u001b[0m\u001b[1;33m,\u001b[0m\u001b[1;34m\"T21\"\u001b[0m\u001b[1;33m,\u001b[0m\u001b[1;34m\"WS21\"\u001b[0m\u001b[1;33m,\u001b[0m\u001b[1;34m\"CA20\"\u001b[0m\u001b[1;33m,\u001b[0m\u001b[1;34m\"CP20\"\u001b[0m\u001b[1;33m,\u001b[0m\u001b[1;34m\"T20\"\u001b[0m\u001b[1;33m,\u001b[0m\u001b[1;34m\"WS20\"\u001b[0m\u001b[1;33m,\u001b[0m\u001b[1;34m\"CA19\"\u001b[0m\u001b[1;33m,\u001b[0m\u001b[1;34m\"CP19\"\u001b[0m\u001b[1;33m,\u001b[0m\u001b[1;34m\"T19\"\u001b[0m\u001b[1;33m,\u001b[0m\u001b[1;34m\"WS19\"\u001b[0m\u001b[1;33m,\u001b[0m\u001b[1;34m\"CA18\"\u001b[0m\u001b[1;33m,\u001b[0m\u001b[1;34m\"CP18\"\u001b[0m\u001b[1;33m,\u001b[0m\u001b[1;34m\"T18\"\u001b[0m\u001b[1;33m,\u001b[0m\u001b[1;34m\"WS18\"\u001b[0m\u001b[1;33m,\u001b[0m\u001b[1;34m\"CA17\"\u001b[0m\u001b[1;33m,\u001b[0m\u001b[1;34m\"CP17\"\u001b[0m\u001b[1;33m,\u001b[0m\u001b[1;34m\"T17\"\u001b[0m\u001b[1;33m,\u001b[0m\u001b[1;34m\"WS17\"\u001b[0m\u001b[1;33m,\u001b[0m\u001b[1;34m\"CA16\"\u001b[0m\u001b[1;33m,\u001b[0m\u001b[1;34m\"CP16\"\u001b[0m\u001b[1;33m,\u001b[0m\u001b[1;34m\"T16\"\u001b[0m\u001b[1;33m,\u001b[0m\u001b[1;34m\"WS16\"\u001b[0m\u001b[1;33m,\u001b[0m\u001b[1;34m\"CA15\"\u001b[0m\u001b[1;33m,\u001b[0m\u001b[1;34m\"CP15\"\u001b[0m\u001b[1;33m,\u001b[0m\u001b[1;34m\"T15\"\u001b[0m\u001b[1;33m,\u001b[0m\u001b[1;34m\"WS15\"\u001b[0m\u001b[1;33m,\u001b[0m\u001b[1;34m\"CA14\"\u001b[0m\u001b[1;33m,\u001b[0m\u001b[1;34m\"CP14\"\u001b[0m\u001b[1;33m,\u001b[0m\u001b[1;34m\"T14\"\u001b[0m\u001b[1;33m,\u001b[0m\u001b[1;34m\"WS14\"\u001b[0m\u001b[1;33m,\u001b[0m\u001b[1;34m\"CA13\"\u001b[0m\u001b[1;33m,\u001b[0m\u001b[1;34m\"CP13\"\u001b[0m\u001b[1;33m,\u001b[0m\u001b[1;34m\"T13\"\u001b[0m\u001b[1;33m,\u001b[0m\u001b[1;34m\"WS13\"\u001b[0m\u001b[1;33m,\u001b[0m\u001b[1;34m\"CA12\"\u001b[0m\u001b[1;33m,\u001b[0m\u001b[1;34m\"CP12\"\u001b[0m\u001b[1;33m,\u001b[0m\u001b[1;34m\"T12\"\u001b[0m\u001b[1;33m,\u001b[0m\u001b[1;34m\"WS12\"\u001b[0m\u001b[1;33m,\u001b[0m\u001b[1;34m\"CA11\"\u001b[0m\u001b[1;33m,\u001b[0m\u001b[1;34m\"CP11\"\u001b[0m\u001b[1;33m,\u001b[0m\u001b[1;34m\"T11\"\u001b[0m\u001b[1;33m,\u001b[0m\u001b[1;34m\"WS11\"\u001b[0m\u001b[1;33m,\u001b[0m\u001b[1;34m\"CA10\"\u001b[0m\u001b[1;33m,\u001b[0m\u001b[1;34m\"CP10\"\u001b[0m\u001b[1;33m,\u001b[0m\u001b[1;34m\"T10\"\u001b[0m\u001b[1;33m,\u001b[0m\u001b[1;34m\"WS10\"\u001b[0m\u001b[1;33m,\u001b[0m\u001b[1;34m\"CA9\"\u001b[0m\u001b[1;33m,\u001b[0m\u001b[1;34m\"CP9\"\u001b[0m\u001b[1;33m,\u001b[0m\u001b[1;34m\"T9\"\u001b[0m\u001b[1;33m,\u001b[0m\u001b[1;34m\"WS9\"\u001b[0m\u001b[1;33m,\u001b[0m\u001b[1;34m\"CA8\"\u001b[0m\u001b[1;33m,\u001b[0m\u001b[1;34m\"CP8\"\u001b[0m\u001b[1;33m,\u001b[0m\u001b[1;34m\"T8\"\u001b[0m\u001b[1;33m,\u001b[0m\u001b[1;34m\"WS8\"\u001b[0m\u001b[1;33m,\u001b[0m\u001b[1;34m\"CA7\"\u001b[0m\u001b[1;33m,\u001b[0m\u001b[1;34m\"CP7\"\u001b[0m\u001b[1;33m,\u001b[0m\u001b[1;34m\"T7\"\u001b[0m\u001b[1;33m,\u001b[0m\u001b[1;34m\"WS7\"\u001b[0m\u001b[1;33m,\u001b[0m\u001b[1;34m\"CA6\"\u001b[0m\u001b[1;33m,\u001b[0m\u001b[1;34m\"CP6\"\u001b[0m\u001b[1;33m,\u001b[0m\u001b[1;34m\"T6\"\u001b[0m\u001b[1;33m,\u001b[0m\u001b[1;34m\"WS6\"\u001b[0m\u001b[1;33m,\u001b[0m\u001b[1;34m\"CA5\"\u001b[0m\u001b[1;33m,\u001b[0m\u001b[1;34m\"CP5\"\u001b[0m\u001b[1;33m,\u001b[0m\u001b[1;34m\"T5\"\u001b[0m\u001b[1;33m,\u001b[0m\u001b[1;34m\"WS5\"\u001b[0m\u001b[1;33m,\u001b[0m\u001b[1;34m\"CA4\"\u001b[0m\u001b[1;33m,\u001b[0m\u001b[1;34m\"CP4\"\u001b[0m\u001b[1;33m,\u001b[0m\u001b[1;34m\"T4\"\u001b[0m\u001b[1;33m,\u001b[0m\u001b[1;34m\"WS4\"\u001b[0m\u001b[1;33m,\u001b[0m\u001b[1;34m\"CA3\"\u001b[0m\u001b[1;33m,\u001b[0m\u001b[1;34m\"CP3\"\u001b[0m\u001b[1;33m,\u001b[0m\u001b[1;34m\"T3\"\u001b[0m\u001b[1;33m,\u001b[0m\u001b[1;34m\"WS3\"\u001b[0m\u001b[1;33m,\u001b[0m\u001b[1;34m\"CA2\"\u001b[0m\u001b[1;33m,\u001b[0m\u001b[1;34m\"CP2\"\u001b[0m\u001b[1;33m,\u001b[0m\u001b[1;34m\"T2\"\u001b[0m\u001b[1;33m,\u001b[0m\u001b[1;34m\"WS2\"\u001b[0m\u001b[1;33m,\u001b[0m\u001b[1;34m\"CA1\"\u001b[0m\u001b[1;33m,\u001b[0m\u001b[1;34m\"CP1\"\u001b[0m\u001b[1;33m,\u001b[0m\u001b[1;34m\"T1\"\u001b[0m\u001b[1;33m,\u001b[0m\u001b[1;34m\"WS1\"\u001b[0m\u001b[1;33m,\u001b[0m\u001b[1;34m\"CT\"\u001b[0m\u001b[1;33m,\u001b[0m\u001b[1;34m\"CWS\"\u001b[0m\u001b[1;33m,\u001b[0m\u001b[1;34m\"PCA1\"\u001b[0m\u001b[1;33m,\u001b[0m\u001b[1;34m\"PCP1\"\u001b[0m\u001b[1;33m,\u001b[0m\u001b[1;34m\"PCA2\"\u001b[0m\u001b[1;33m,\u001b[0m\u001b[1;34m\"PCP2\"\u001b[0m\u001b[1;33m,\u001b[0m\u001b[1;34m\"PCA3\"\u001b[0m\u001b[1;33m,\u001b[0m\u001b[1;34m\"PCP3\"\u001b[0m\u001b[1;33m,\u001b[0m\u001b[1;34m\"PCA4\"\u001b[0m\u001b[1;33m,\u001b[0m\u001b[1;34m\"PCP4\"\u001b[0m\u001b[1;33m,\u001b[0m\u001b[1;34m\"PCA5\"\u001b[0m\u001b[1;33m,\u001b[0m\u001b[1;34m\"PCP5\"\u001b[0m\u001b[1;33m,\u001b[0m\u001b[1;34m\"PCA6\"\u001b[0m\u001b[1;33m,\u001b[0m\u001b[1;34m\"PCP6\"\u001b[0m\u001b[1;33m,\u001b[0m\u001b[1;34m\"PCA7\"\u001b[0m\u001b[1;33m,\u001b[0m\u001b[1;34m\"PCP7\"\u001b[0m\u001b[1;33m,\u001b[0m\u001b[1;34m\"PCA8\"\u001b[0m\u001b[1;33m,\u001b[0m\u001b[1;34m\"PCP8\"\u001b[0m\u001b[1;33m,\u001b[0m\u001b[1;34m\"PCA9\"\u001b[0m\u001b[1;33m,\u001b[0m\u001b[1;34m\"PCP9\"\u001b[0m\u001b[1;33m,\u001b[0m\u001b[1;34m\"PCA10\"\u001b[0m\u001b[1;33m,\u001b[0m\u001b[1;34m\"PCP10\"\u001b[0m\u001b[1;33m,\u001b[0m\u001b[1;34m\"PCA11\"\u001b[0m\u001b[1;33m,\u001b[0m\u001b[1;34m\"PCP11\"\u001b[0m\u001b[1;33m,\u001b[0m\u001b[1;34m\"PCA12\"\u001b[0m\u001b[1;33m,\u001b[0m\u001b[1;34m\"PCP12\"\u001b[0m\u001b[1;33m,\u001b[0m\u001b[1;34m\"PCA13\"\u001b[0m\u001b[1;33m,\u001b[0m\u001b[1;34m\"PCP13\"\u001b[0m\u001b[1;33m,\u001b[0m\u001b[1;34m\"PCA14\"\u001b[0m\u001b[1;33m,\u001b[0m\u001b[1;34m\"PCP14\"\u001b[0m\u001b[1;33m,\u001b[0m\u001b[1;34m\"PCA15\"\u001b[0m\u001b[1;33m,\u001b[0m\u001b[1;34m\"PCP15\"\u001b[0m\u001b[1;33m,\u001b[0m\u001b[1;34m\"PCA16\"\u001b[0m\u001b[1;33m,\u001b[0m\u001b[1;34m\"PCP16\"\u001b[0m\u001b[1;33m,\u001b[0m\u001b[1;34m\"PCA17\"\u001b[0m\u001b[1;33m,\u001b[0m\u001b[1;34m\"PCP17\"\u001b[0m\u001b[1;33m,\u001b[0m\u001b[1;34m\"PCA18\"\u001b[0m\u001b[1;33m,\u001b[0m\u001b[1;34m\"PCP18\"\u001b[0m\u001b[1;33m,\u001b[0m\u001b[1;34m\"PCA19\"\u001b[0m\u001b[1;33m,\u001b[0m\u001b[1;34m\"PCP19\"\u001b[0m\u001b[1;33m,\u001b[0m\u001b[1;34m\"PCA20\"\u001b[0m\u001b[1;33m,\u001b[0m\u001b[1;34m\"PCP20\"\u001b[0m\u001b[1;33m,\u001b[0m\u001b[1;34m\"PCA21\"\u001b[0m\u001b[1;33m,\u001b[0m\u001b[1;34m\"PCP21\"\u001b[0m\u001b[1;33m,\u001b[0m\u001b[1;34m\"PCA22\"\u001b[0m\u001b[1;33m,\u001b[0m\u001b[1;34m\"PCP22\"\u001b[0m\u001b[1;33m,\u001b[0m\u001b[1;34m\"PCA23\"\u001b[0m\u001b[1;33m,\u001b[0m\u001b[1;34m\"PCP23\"\u001b[0m\u001b[1;33m,\u001b[0m\u001b[1;34m\"PCA24\"\u001b[0m\u001b[1;33m,\u001b[0m\u001b[1;34m\"PCP24\"\u001b[0m\u001b[1;33m,\u001b[0m\u001b[1;34m\"TF1\"\u001b[0m\u001b[1;33m,\u001b[0m\u001b[1;34m\"WSF1\"\u001b[0m\u001b[1;33m,\u001b[0m\u001b[1;34m\"TF2\"\u001b[0m\u001b[1;33m,\u001b[0m\u001b[1;34m\"WSF2\"\u001b[0m\u001b[1;33m,\u001b[0m\u001b[1;34m\"TF3\"\u001b[0m\u001b[1;33m,\u001b[0m\u001b[1;34m\"WSF3\"\u001b[0m\u001b[1;33m,\u001b[0m\u001b[1;34m\"TF4\"\u001b[0m\u001b[1;33m,\u001b[0m\u001b[1;34m\"WSF4\"\u001b[0m\u001b[1;33m,\u001b[0m\u001b[1;34m\"TF5\"\u001b[0m\u001b[1;33m,\u001b[0m\u001b[1;34m\"WSF5\"\u001b[0m\u001b[1;33m,\u001b[0m\u001b[1;34m\"TF6\"\u001b[0m\u001b[1;33m,\u001b[0m\u001b[1;34m\"WSF6\"\u001b[0m\u001b[1;33m,\u001b[0m\u001b[1;34m\"TF7\"\u001b[0m\u001b[1;33m,\u001b[0m\u001b[1;34m\"WSF7\"\u001b[0m\u001b[1;33m,\u001b[0m\u001b[1;34m\"TF8\"\u001b[0m\u001b[1;33m,\u001b[0m\u001b[1;34m\"WSF8\"\u001b[0m\u001b[1;33m,\u001b[0m\u001b[1;34m\"TF9\"\u001b[0m\u001b[1;33m,\u001b[0m\u001b[1;34m\"WSF9\"\u001b[0m\u001b[1;33m,\u001b[0m\u001b[1;34m\"TF10\"\u001b[0m\u001b[1;33m,\u001b[0m\u001b[1;34m\"WSF10\"\u001b[0m\u001b[1;33m,\u001b[0m\u001b[1;34m\"TF11\"\u001b[0m\u001b[1;33m,\u001b[0m\u001b[1;34m\"WSF11\"\u001b[0m\u001b[1;33m,\u001b[0m\u001b[1;34m\"TF12\"\u001b[0m\u001b[1;33m,\u001b[0m\u001b[1;34m\"WSF12\"\u001b[0m\u001b[1;33m,\u001b[0m\u001b[1;34m\"TF13\"\u001b[0m\u001b[1;33m,\u001b[0m\u001b[1;34m\"WSF13\"\u001b[0m\u001b[1;33m,\u001b[0m\u001b[1;34m\"TF14\"\u001b[0m\u001b[1;33m,\u001b[0m\u001b[1;34m\"WSF14\"\u001b[0m\u001b[1;33m,\u001b[0m\u001b[1;34m\"TF15\"\u001b[0m\u001b[1;33m,\u001b[0m\u001b[1;34m\"WSF15\"\u001b[0m\u001b[1;33m,\u001b[0m\u001b[1;34m\"TF16\"\u001b[0m\u001b[1;33m,\u001b[0m\u001b[1;34m\"WSF16\"\u001b[0m\u001b[1;33m,\u001b[0m\u001b[1;34m\"TF17\"\u001b[0m\u001b[1;33m,\u001b[0m\u001b[1;34m\"WSF17\"\u001b[0m\u001b[1;33m,\u001b[0m\u001b[1;34m\"TF18\"\u001b[0m\u001b[1;33m,\u001b[0m\u001b[1;34m\"WSF18\"\u001b[0m\u001b[1;33m,\u001b[0m\u001b[1;34m\"TF19\"\u001b[0m\u001b[1;33m,\u001b[0m\u001b[1;34m\"WSF19\"\u001b[0m\u001b[1;33m,\u001b[0m\u001b[1;34m\"TF20\"\u001b[0m\u001b[1;33m,\u001b[0m\u001b[1;34m\"WSF20\"\u001b[0m\u001b[1;33m,\u001b[0m\u001b[1;34m\"TF21\"\u001b[0m\u001b[1;33m,\u001b[0m\u001b[1;34m\"WSF21\"\u001b[0m\u001b[1;33m,\u001b[0m\u001b[1;34m\"TF22\"\u001b[0m\u001b[1;33m,\u001b[0m\u001b[1;34m\"WSF22\"\u001b[0m\u001b[1;33m,\u001b[0m\u001b[1;34m\"TF23\"\u001b[0m\u001b[1;33m,\u001b[0m\u001b[1;34m\"WSF23\"\u001b[0m\u001b[1;33m,\u001b[0m\u001b[1;34m\"TF24\"\u001b[0m\u001b[1;33m,\u001b[0m\u001b[1;34m\"WSF24\"\u001b[0m\u001b[1;33m]\u001b[0m\u001b[1;33m\u001b[0m\u001b[1;33m\u001b[0m\u001b[0m\n",
      "\u001b[1;31mAttributeError\u001b[0m: module 'pandas' has no attribute 'read_csv'"
     ]
    }
   ],
   "source": [
    "create_energy_predict_model(verbose=True)"
   ]
  },
  {
   "cell_type": "code",
   "execution_count": null,
   "id": "28fac6b8",
   "metadata": {},
   "outputs": [],
   "source": []
  },
  {
   "cell_type": "code",
   "execution_count": null,
   "id": "a1c142be",
   "metadata": {},
   "outputs": [],
   "source": []
  }
 ],
 "metadata": {
  "kernelspec": {
   "display_name": "Python 3 (ipykernel)",
   "language": "python",
   "name": "python3"
  },
  "language_info": {
   "codemirror_mode": {
    "name": "ipython",
    "version": 3
   },
   "file_extension": ".py",
   "mimetype": "text/x-python",
   "name": "python",
   "nbconvert_exporter": "python",
   "pygments_lexer": "ipython3",
   "version": "3.7.9"
  }
 },
 "nbformat": 4,
 "nbformat_minor": 5
}
